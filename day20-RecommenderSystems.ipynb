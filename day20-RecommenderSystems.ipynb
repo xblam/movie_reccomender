{
 "cells": [
  {
   "cell_type": "markdown",
   "metadata": {},
   "source": [
    "# day24: Intro to MovieLens100k Dataset and Recommendation\n",
    "\n",
    "\n",
    "# Prerequisites\n",
    "\n",
    "Download the dataset and starter code associated with Project C:\n",
    "\n",
    "* Dataset CSV files: https://github.com/tufts-ml-courses/cs135-25s-assignments/tree/main/projectB/data_movie_lens_100k\n",
    "\n",
    "* Starter code files: https://github.com/tufts-ml-courses/cs135-25s-assignments/tree/master/projectB/\n",
    "\n",
    "# Objectives\n",
    "\n",
    "We will practice:\n",
    "\n",
    "* Understanding the MovieLens 100k dataset\n",
    "* Getting a head start on Project B problem 1\n",
    "* Understanding the surprise Python package\n",
    "\n",
    "# Outline\n",
    "\n",
    "* [Part 1: Exploration of the dataset](#part1)\n",
    "* [Part 2: Using the provided starter code for Problem 1](#part2)\n",
    "* [Part 3: Using surprise for implementing latent matrix factorization models](#part3)\n",
    "* [Part 4: Visualizing latent factors in 2D](#part4)\n",
    "\n",
    "\n",
    "# Takeaways\n",
    "\n",
    "* Start early on Project B!\n",
    "* Think carefully things like early stopping when you do SGD"
   ]
  },
  {
   "cell_type": "code",
   "execution_count": 1,
   "metadata": {},
   "outputs": [],
   "source": [
    "# Import numpy\n",
    "import numpy as np\n",
    "\n",
    "# Import pandas for data handling\n",
    "import pandas as pd"
   ]
  },
  {
   "cell_type": "code",
   "execution_count": 2,
   "metadata": {},
   "outputs": [],
   "source": [
    "import os"
   ]
  },
  {
   "cell_type": "code",
   "execution_count": 8,
   "metadata": {},
   "outputs": [],
   "source": [
    "# Import plotting libraries\n",
    "import matplotlib\n",
    "import matplotlib.pyplot as plt\n",
    "\n",
    "plt.style.use('seaborn-v0_8') # pretty matplotlib plots\n",
    "\n",
    "import seaborn as sns\n",
    "sns.set('notebook', font_scale=1.25, style='whitegrid')"
   ]
  },
  {
   "cell_type": "markdown",
   "metadata": {},
   "source": [
    "# Import starter code"
   ]
  },
  {
   "cell_type": "code",
   "execution_count": 29,
   "metadata": {},
   "outputs": [],
   "source": [
    "from train_valid_test_loader import load_train_valid_test_datasets"
   ]
  },
  {
   "cell_type": "code",
   "execution_count": 30,
   "metadata": {},
   "outputs": [],
   "source": [
    "DATA_PATH = 'data_movie_lens_100k/' # TODO fixme: Path to where dataset csv files live on your system\n",
    "if not os.path.exists(os.path.join(DATA_PATH, 'select_movies.csv')):\n",
    "    try:\n",
    "        DATA_PATH = os.path.join(os.environ.get(\"HOME\", \"\"),\n",
    "                    'courses/cs135-25s-staffonly/proj_src/projB/data_movie_lens_100k/')\n",
    "        assert os.path.exists(os.path.join(DATA_PATH, 'select_movies.csv'))\n",
    "    except AssertionError:\n",
    "        print(\"Please store path to movie_lens_100k dataset in DATA_PATH\")\n",
    "\n",
    "assert os.path.exists(os.path.join(DATA_PATH, 'select_movies.csv'))"
   ]
  },
  {
   "cell_type": "markdown",
   "metadata": {},
   "source": [
    "# Part 1: Exploring the Movie Lens 100k dataset"
   ]
  },
  {
   "cell_type": "markdown",
   "metadata": {},
   "source": [
    "### How to import the dataset\n",
    "\n",
    "```\n",
    "Usage\n",
    "-----\n",
    ">>> train, valid, test, n_users, n_items = load_train_valid_test_datasets(\n",
    "...     data_path='/path/to/data_movie_lens_100k/')\n",
    ">>> n_users\n",
    "943\n",
    ">>> n_items\n",
    "1682\n",
    ">>> type(train)\n",
    "tuple\n",
    ">>> len(train)\n",
    "3\n",
    "```"
   ]
  },
  {
   "cell_type": "code",
   "execution_count": 31,
   "metadata": {},
   "outputs": [],
   "source": [
    "train_tuple, test_tuple, valid_tuple, n_users, n_items = load_train_valid_test_datasets(data_path=DATA_PATH)"
   ]
  },
  {
   "cell_type": "code",
   "execution_count": 32,
   "metadata": {},
   "outputs": [
    {
     "data": {
      "text/plain": [
       "tuple"
      ]
     },
     "execution_count": 32,
     "metadata": {},
     "output_type": "execute_result"
    }
   ],
   "source": [
    "type(train_tuple)"
   ]
  },
  {
   "cell_type": "code",
   "execution_count": 33,
   "metadata": {},
   "outputs": [
    {
     "data": {
      "text/plain": [
       "3"
      ]
     },
     "execution_count": 33,
     "metadata": {},
     "output_type": "execute_result"
    }
   ],
   "source": [
    "len(train_tuple)"
   ]
  },
  {
   "cell_type": "code",
   "execution_count": 34,
   "metadata": {},
   "outputs": [
    {
     "data": {
      "text/plain": [
       "943"
      ]
     },
     "execution_count": 34,
     "metadata": {},
     "output_type": "execute_result"
    }
   ],
   "source": [
    "n_users"
   ]
  },
  {
   "cell_type": "code",
   "execution_count": 35,
   "metadata": {},
   "outputs": [
    {
     "data": {
      "text/plain": [
       "1682"
      ]
     },
     "execution_count": 35,
     "metadata": {},
     "output_type": "execute_result"
    }
   ],
   "source": [
    "n_items"
   ]
  },
  {
   "cell_type": "code",
   "execution_count": 36,
   "metadata": {},
   "outputs": [
    {
     "name": "stdout",
     "output_type": "stream",
     "text": [
      "n_train 70000\n",
      "n_valid 10000\n",
      "n_test 9992\n"
     ]
    }
   ],
   "source": [
    "n_train = len(train_tuple[0])\n",
    "n_valid = len(valid_tuple[0])\n",
    "n_test = len(test_tuple[0])\n",
    "\n",
    "print(\"n_train\", f\"{n_train}\")\n",
    "print(\"n_valid\", f\"{n_valid}\")\n",
    "print(\"n_test\", f\"{n_test}\")"
   ]
  },
  {
   "cell_type": "markdown",
   "metadata": {},
   "source": [
    "### Structure of the dataset\n",
    "\n",
    "Each dataset *split* (train or valid or test) is represented as a *tuple* of 3 values:\n",
    "\n",
    "* a 1D array of user_ids\n",
    "* a 1D array of item_ids\n",
    "* a 1D array of ratings\n"
   ]
  },
  {
   "cell_type": "code",
   "execution_count": 37,
   "metadata": {},
   "outputs": [],
   "source": [
    "n_train_examples = len(train_tuple[0])\n",
    "N = n_train_examples\n",
    "\n",
    "# Unpack the tuple into its three contained arrays\n",
    "userids_tr_N = train_tuple[0]\n",
    "itemids_tr_N = train_tuple[1]\n",
    "ratings_tr_N = train_tuple[2]"
   ]
  },
  {
   "cell_type": "markdown",
   "metadata": {},
   "source": [
    "### Print first 5 values in each array\n",
    "\n",
    "We should see that:\n",
    "\n",
    "* user 662 gave movie 761 a 5\n",
    "* user 298 gave movie 90 a 4\n",
    "* user 90 gave movie 349 a 4\n",
    "* user 912 gave movie 917 a 4\n",
    "* user 302 gave movie 42 a 3"
   ]
  },
  {
   "cell_type": "code",
   "execution_count": null,
   "metadata": {},
   "outputs": [
    {
     "name": "stdout",
     "output_type": "stream",
     "text": [
      "[662 298  90 912 302]\n",
      "[761  90 349 917  42]\n",
      "[5 4 4 4 3]\n"
     ]
    }
   ],
   "source": [
    "print(userids_tr_N[:5])\n",
    "print(itemids_tr_N[:5])\n",
    "print(ratings_tr_N[:5])"
   ]
  },
  {
   "cell_type": "markdown",
   "metadata": {},
   "source": [
    "### Exercise 1a: What is the *average* rating (on the 5 star scale) for each split (train/valid/test)?"
   ]
  },
  {
   "cell_type": "markdown",
   "metadata": {},
   "source": [
    "TODO write code"
   ]
  },
  {
   "cell_type": "markdown",
   "metadata": {},
   "source": [
    "### Load info about each movie"
   ]
  },
  {
   "cell_type": "code",
   "execution_count": null,
   "metadata": {},
   "outputs": [],
   "source": [
    "movie_df = pd.read_csv(os.path.join(DATA_PATH, 'movie_info.csv'))"
   ]
  },
  {
   "cell_type": "code",
   "execution_count": null,
   "metadata": {},
   "outputs": [
    {
     "data": {
      "text/plain": [
       "(1681, 4)"
      ]
     },
     "execution_count": null,
     "metadata": {},
     "output_type": "execute_result"
    }
   ],
   "source": [
    "movie_df.shape"
   ]
  },
  {
   "cell_type": "code",
   "execution_count": null,
   "metadata": {},
   "outputs": [
    {
     "data": {
      "text/html": [
       "<div>\n",
       "<style scoped>\n",
       "    .dataframe tbody tr th:only-of-type {\n",
       "        vertical-align: middle;\n",
       "    }\n",
       "\n",
       "    .dataframe tbody tr th {\n",
       "        vertical-align: top;\n",
       "    }\n",
       "\n",
       "    .dataframe thead th {\n",
       "        text-align: right;\n",
       "    }\n",
       "</style>\n",
       "<table border=\"1\" class=\"dataframe\">\n",
       "  <thead>\n",
       "    <tr style=\"text-align: right;\">\n",
       "      <th></th>\n",
       "      <th>item_id</th>\n",
       "      <th>title</th>\n",
       "      <th>release_year</th>\n",
       "      <th>orig_item_id</th>\n",
       "    </tr>\n",
       "  </thead>\n",
       "  <tbody>\n",
       "    <tr>\n",
       "      <th>0</th>\n",
       "      <td>0</td>\n",
       "      <td>Toy Story (1995)</td>\n",
       "      <td>1995</td>\n",
       "      <td>1</td>\n",
       "    </tr>\n",
       "    <tr>\n",
       "      <th>1</th>\n",
       "      <td>1</td>\n",
       "      <td>GoldenEye (1995)</td>\n",
       "      <td>1995</td>\n",
       "      <td>2</td>\n",
       "    </tr>\n",
       "    <tr>\n",
       "      <th>2</th>\n",
       "      <td>2</td>\n",
       "      <td>Four Rooms (1995)</td>\n",
       "      <td>1995</td>\n",
       "      <td>3</td>\n",
       "    </tr>\n",
       "    <tr>\n",
       "      <th>3</th>\n",
       "      <td>3</td>\n",
       "      <td>Get Shorty (1995)</td>\n",
       "      <td>1995</td>\n",
       "      <td>4</td>\n",
       "    </tr>\n",
       "    <tr>\n",
       "      <th>4</th>\n",
       "      <td>4</td>\n",
       "      <td>Copycat (1995)</td>\n",
       "      <td>1995</td>\n",
       "      <td>5</td>\n",
       "    </tr>\n",
       "  </tbody>\n",
       "</table>\n",
       "</div>"
      ],
      "text/plain": [
       "   item_id              title  release_year  orig_item_id\n",
       "0        0   Toy Story (1995)          1995             1\n",
       "1        1   GoldenEye (1995)          1995             2\n",
       "2        2  Four Rooms (1995)          1995             3\n",
       "3        3  Get Shorty (1995)          1995             4\n",
       "4        4     Copycat (1995)          1995             5"
      ]
     },
     "execution_count": null,
     "metadata": {},
     "output_type": "execute_result"
    }
   ],
   "source": [
    "movie_df.head()"
   ]
  },
  {
   "cell_type": "code",
   "execution_count": null,
   "metadata": {},
   "outputs": [
    {
     "data": {
      "text/html": [
       "<div>\n",
       "<style scoped>\n",
       "    .dataframe tbody tr th:only-of-type {\n",
       "        vertical-align: middle;\n",
       "    }\n",
       "\n",
       "    .dataframe tbody tr th {\n",
       "        vertical-align: top;\n",
       "    }\n",
       "\n",
       "    .dataframe thead th {\n",
       "        text-align: right;\n",
       "    }\n",
       "</style>\n",
       "<table border=\"1\" class=\"dataframe\">\n",
       "  <thead>\n",
       "    <tr style=\"text-align: right;\">\n",
       "      <th></th>\n",
       "      <th>item_id</th>\n",
       "      <th>title</th>\n",
       "      <th>release_year</th>\n",
       "      <th>orig_item_id</th>\n",
       "    </tr>\n",
       "  </thead>\n",
       "  <tbody>\n",
       "    <tr>\n",
       "      <th>1676</th>\n",
       "      <td>1676</td>\n",
       "      <td>Mat' i syn (1997)</td>\n",
       "      <td>1998</td>\n",
       "      <td>1678</td>\n",
       "    </tr>\n",
       "    <tr>\n",
       "      <th>1677</th>\n",
       "      <td>1677</td>\n",
       "      <td>B. Monkey (1998)</td>\n",
       "      <td>1998</td>\n",
       "      <td>1679</td>\n",
       "    </tr>\n",
       "    <tr>\n",
       "      <th>1678</th>\n",
       "      <td>1678</td>\n",
       "      <td>Sliding Doors (1998)</td>\n",
       "      <td>1998</td>\n",
       "      <td>1680</td>\n",
       "    </tr>\n",
       "    <tr>\n",
       "      <th>1679</th>\n",
       "      <td>1679</td>\n",
       "      <td>You So Crazy (1994)</td>\n",
       "      <td>1994</td>\n",
       "      <td>1681</td>\n",
       "    </tr>\n",
       "    <tr>\n",
       "      <th>1680</th>\n",
       "      <td>1680</td>\n",
       "      <td>Scream of Stone (Schrei aus Stein) (1991)</td>\n",
       "      <td>1996</td>\n",
       "      <td>1682</td>\n",
       "    </tr>\n",
       "  </tbody>\n",
       "</table>\n",
       "</div>"
      ],
      "text/plain": [
       "      item_id                                      title  release_year  \\\n",
       "1676     1676                          Mat' i syn (1997)          1998   \n",
       "1677     1677                           B. Monkey (1998)          1998   \n",
       "1678     1678                       Sliding Doors (1998)          1998   \n",
       "1679     1679                        You So Crazy (1994)          1994   \n",
       "1680     1680  Scream of Stone (Schrei aus Stein) (1991)          1996   \n",
       "\n",
       "      orig_item_id  \n",
       "1676          1678  \n",
       "1677          1679  \n",
       "1678          1680  \n",
       "1679          1681  \n",
       "1680          1682  "
      ]
     },
     "execution_count": null,
     "metadata": {},
     "output_type": "execute_result"
    }
   ],
   "source": [
    "movie_df.tail()"
   ]
  },
  {
   "cell_type": "markdown",
   "metadata": {},
   "source": [
    "### Worked Example 1c: How many movies are *never* rated in the training set? What are they?"
   ]
  },
  {
   "cell_type": "code",
   "execution_count": null,
   "metadata": {},
   "outputs": [],
   "source": [
    "M = n_items"
   ]
  },
  {
   "cell_type": "code",
   "execution_count": null,
   "metadata": {},
   "outputs": [],
   "source": [
    "count_per_movie_M = np.zeros(M)\n",
    "\n",
    "# Loop over all movie ids, count how often they appear in dataset\n",
    "for m in range(M):\n",
    "    count_per_movie_M[m] = np.sum(itemids_tr_N == m)"
   ]
  },
  {
   "cell_type": "code",
   "execution_count": null,
   "metadata": {},
   "outputs": [],
   "source": [
    "zero_count_movie_ids = np.flatnonzero(count_per_movie_M == 0)"
   ]
  },
  {
   "cell_type": "code",
   "execution_count": null,
   "metadata": {},
   "outputs": [
    {
     "data": {
      "text/plain": [
       "array([ 709,  850, 1233, 1288, 1307, 1308, 1318, 1321, 1327, 1329, 1340,\n",
       "       1341, 1350, 1372, 1450, 1459, 1484, 1505, 1508, 1513, 1517, 1541,\n",
       "       1549, 1559, 1561, 1562, 1568, 1572, 1574, 1576, 1582, 1584, 1594,\n",
       "       1599, 1601, 1604, 1609, 1612, 1616, 1617, 1630, 1632, 1635, 1644,\n",
       "       1645, 1646, 1649, 1652, 1653, 1664, 1673, 1674, 1675, 1677, 1680,\n",
       "       1681])"
      ]
     },
     "execution_count": null,
     "metadata": {},
     "output_type": "execute_result"
    }
   ],
   "source": [
    "zero_count_movie_ids"
   ]
  },
  {
   "cell_type": "code",
   "execution_count": null,
   "metadata": {},
   "outputs": [
    {
     "data": {
      "text/plain": [
       "56"
      ]
     },
     "execution_count": null,
     "metadata": {},
     "output_type": "execute_result"
    }
   ],
   "source": [
    "len(zero_count_movie_ids)"
   ]
  },
  {
   "cell_type": "code",
   "execution_count": null,
   "metadata": {},
   "outputs": [
    {
     "data": {
      "text/html": [
       "<div>\n",
       "<style scoped>\n",
       "    .dataframe tbody tr th:only-of-type {\n",
       "        vertical-align: middle;\n",
       "    }\n",
       "\n",
       "    .dataframe tbody tr th {\n",
       "        vertical-align: top;\n",
       "    }\n",
       "\n",
       "    .dataframe thead th {\n",
       "        text-align: right;\n",
       "    }\n",
       "</style>\n",
       "<table border=\"1\" class=\"dataframe\">\n",
       "  <thead>\n",
       "    <tr style=\"text-align: right;\">\n",
       "      <th></th>\n",
       "      <th>item_id</th>\n",
       "      <th>title</th>\n",
       "      <th>release_year</th>\n",
       "      <th>orig_item_id</th>\n",
       "    </tr>\n",
       "  </thead>\n",
       "  <tbody>\n",
       "    <tr>\n",
       "      <th>709</th>\n",
       "      <td>709</td>\n",
       "      <td>Substance of Fire, The (1996)</td>\n",
       "      <td>1996</td>\n",
       "      <td>711</td>\n",
       "    </tr>\n",
       "    <tr>\n",
       "      <th>850</th>\n",
       "      <td>850</td>\n",
       "      <td>Bloody Child, The (1996)</td>\n",
       "      <td>1996</td>\n",
       "      <td>852</td>\n",
       "    </tr>\n",
       "    <tr>\n",
       "      <th>1233</th>\n",
       "      <td>1233</td>\n",
       "      <td>Big Bang Theory, The (1994)</td>\n",
       "      <td>1994</td>\n",
       "      <td>1235</td>\n",
       "    </tr>\n",
       "    <tr>\n",
       "      <th>1288</th>\n",
       "      <td>1288</td>\n",
       "      <td>Country Life (1994)</td>\n",
       "      <td>1994</td>\n",
       "      <td>1290</td>\n",
       "    </tr>\n",
       "    <tr>\n",
       "      <th>1307</th>\n",
       "      <td>1307</td>\n",
       "      <td>Very Natural Thing, A (1974)</td>\n",
       "      <td>1974</td>\n",
       "      <td>1309</td>\n",
       "    </tr>\n",
       "  </tbody>\n",
       "</table>\n",
       "</div>"
      ],
      "text/plain": [
       "      item_id                          title  release_year  orig_item_id\n",
       "709       709  Substance of Fire, The (1996)          1996           711\n",
       "850       850       Bloody Child, The (1996)          1996           852\n",
       "1233     1233    Big Bang Theory, The (1994)          1994          1235\n",
       "1288     1288            Country Life (1994)          1994          1290\n",
       "1307     1307   Very Natural Thing, A (1974)          1974          1309"
      ]
     },
     "execution_count": null,
     "metadata": {},
     "output_type": "execute_result"
    }
   ],
   "source": [
    "movie_df.loc[zero_count_movie_ids[:10]].head(5) # First 5 movies that were never rated in training set"
   ]
  },
  {
   "cell_type": "markdown",
   "metadata": {},
   "source": [
    "### Exercise 1d: Which movie occurs *most often* in the training set?"
   ]
  },
  {
   "cell_type": "markdown",
   "metadata": {},
   "source": [
    "TODO write code to solve"
   ]
  },
  {
   "cell_type": "markdown",
   "metadata": {},
   "source": [
    "### Exercise 1e: What is the average (mean) rating of Toy Story in the training set?"
   ]
  },
  {
   "cell_type": "markdown",
   "metadata": {},
   "source": [
    "TODO write code to solve"
   ]
  },
  {
   "cell_type": "markdown",
   "metadata": {},
   "source": [
    "### Load info about each user"
   ]
  },
  {
   "cell_type": "code",
   "execution_count": null,
   "metadata": {},
   "outputs": [],
   "source": [
    "user_df = pd.read_csv(os.path.join(DATA_PATH, 'user_info.csv'))"
   ]
  },
  {
   "cell_type": "code",
   "execution_count": null,
   "metadata": {},
   "outputs": [
    {
     "data": {
      "text/plain": [
       "(943, 4)"
      ]
     },
     "execution_count": null,
     "metadata": {},
     "output_type": "execute_result"
    }
   ],
   "source": [
    "user_df.shape"
   ]
  },
  {
   "cell_type": "code",
   "execution_count": null,
   "metadata": {},
   "outputs": [
    {
     "data": {
      "text/plain": [
       "943"
      ]
     },
     "execution_count": null,
     "metadata": {},
     "output_type": "execute_result"
    }
   ],
   "source": [
    "n_users"
   ]
  },
  {
   "cell_type": "markdown",
   "metadata": {},
   "source": [
    "Print first 5 rows of the user id Data Frame"
   ]
  },
  {
   "cell_type": "code",
   "execution_count": null,
   "metadata": {},
   "outputs": [
    {
     "data": {
      "text/html": [
       "<div>\n",
       "<style scoped>\n",
       "    .dataframe tbody tr th:only-of-type {\n",
       "        vertical-align: middle;\n",
       "    }\n",
       "\n",
       "    .dataframe tbody tr th {\n",
       "        vertical-align: top;\n",
       "    }\n",
       "\n",
       "    .dataframe thead th {\n",
       "        text-align: right;\n",
       "    }\n",
       "</style>\n",
       "<table border=\"1\" class=\"dataframe\">\n",
       "  <thead>\n",
       "    <tr style=\"text-align: right;\">\n",
       "      <th></th>\n",
       "      <th>user_id</th>\n",
       "      <th>age</th>\n",
       "      <th>is_male</th>\n",
       "      <th>orig_user_id</th>\n",
       "    </tr>\n",
       "  </thead>\n",
       "  <tbody>\n",
       "    <tr>\n",
       "      <th>0</th>\n",
       "      <td>0</td>\n",
       "      <td>24</td>\n",
       "      <td>1</td>\n",
       "      <td>1</td>\n",
       "    </tr>\n",
       "    <tr>\n",
       "      <th>1</th>\n",
       "      <td>1</td>\n",
       "      <td>53</td>\n",
       "      <td>0</td>\n",
       "      <td>2</td>\n",
       "    </tr>\n",
       "    <tr>\n",
       "      <th>2</th>\n",
       "      <td>2</td>\n",
       "      <td>23</td>\n",
       "      <td>1</td>\n",
       "      <td>3</td>\n",
       "    </tr>\n",
       "    <tr>\n",
       "      <th>3</th>\n",
       "      <td>3</td>\n",
       "      <td>24</td>\n",
       "      <td>1</td>\n",
       "      <td>4</td>\n",
       "    </tr>\n",
       "    <tr>\n",
       "      <th>4</th>\n",
       "      <td>4</td>\n",
       "      <td>33</td>\n",
       "      <td>0</td>\n",
       "      <td>5</td>\n",
       "    </tr>\n",
       "  </tbody>\n",
       "</table>\n",
       "</div>"
      ],
      "text/plain": [
       "   user_id  age  is_male  orig_user_id\n",
       "0        0   24        1             1\n",
       "1        1   53        0             2\n",
       "2        2   23        1             3\n",
       "3        3   24        1             4\n",
       "4        4   33        0             5"
      ]
     },
     "execution_count": null,
     "metadata": {},
     "output_type": "execute_result"
    }
   ],
   "source": [
    "user_df.head()"
   ]
  },
  {
   "cell_type": "markdown",
   "metadata": {},
   "source": [
    "### Exercise 1f: What is the average age of the users in our dataset?"
   ]
  },
  {
   "cell_type": "markdown",
   "metadata": {},
   "source": [
    "TODO solve code to do this"
   ]
  },
  {
   "cell_type": "markdown",
   "metadata": {},
   "source": [
    "### Load info about select handful of movies"
   ]
  },
  {
   "cell_type": "code",
   "execution_count": null,
   "metadata": {},
   "outputs": [],
   "source": [
    "select_movies_df = pd.read_csv(os.path.join(DATA_PATH, 'select_movies.csv'))"
   ]
  },
  {
   "cell_type": "code",
   "execution_count": null,
   "metadata": {},
   "outputs": [
    {
     "data": {
      "text/html": [
       "<div>\n",
       "<style scoped>\n",
       "    .dataframe tbody tr th:only-of-type {\n",
       "        vertical-align: middle;\n",
       "    }\n",
       "\n",
       "    .dataframe tbody tr th {\n",
       "        vertical-align: top;\n",
       "    }\n",
       "\n",
       "    .dataframe thead th {\n",
       "        text-align: right;\n",
       "    }\n",
       "</style>\n",
       "<table border=\"1\" class=\"dataframe\">\n",
       "  <thead>\n",
       "    <tr style=\"text-align: right;\">\n",
       "      <th></th>\n",
       "      <th>item_id</th>\n",
       "      <th>title</th>\n",
       "      <th>release_year</th>\n",
       "      <th>orig_item_id</th>\n",
       "    </tr>\n",
       "  </thead>\n",
       "  <tbody>\n",
       "    <tr>\n",
       "      <th>0</th>\n",
       "      <td>0</td>\n",
       "      <td>Toy Story (1995)</td>\n",
       "      <td>1995</td>\n",
       "      <td>1</td>\n",
       "    </tr>\n",
       "    <tr>\n",
       "      <th>1</th>\n",
       "      <td>70</td>\n",
       "      <td>Lion King, The (1994)</td>\n",
       "      <td>1994</td>\n",
       "      <td>71</td>\n",
       "    </tr>\n",
       "    <tr>\n",
       "      <th>2</th>\n",
       "      <td>98</td>\n",
       "      <td>Snow White and the Seven Dwarfs (1937)</td>\n",
       "      <td>1937</td>\n",
       "      <td>99</td>\n",
       "    </tr>\n",
       "    <tr>\n",
       "      <th>3</th>\n",
       "      <td>131</td>\n",
       "      <td>Wizard of Oz, The (1939)</td>\n",
       "      <td>1939</td>\n",
       "      <td>132</td>\n",
       "    </tr>\n",
       "    <tr>\n",
       "      <th>4</th>\n",
       "      <td>142</td>\n",
       "      <td>Sound of Music, The (1965)</td>\n",
       "      <td>1965</td>\n",
       "      <td>143</td>\n",
       "    </tr>\n",
       "    <tr>\n",
       "      <th>5</th>\n",
       "      <td>49</td>\n",
       "      <td>Star Wars (1977)</td>\n",
       "      <td>1977</td>\n",
       "      <td>50</td>\n",
       "    </tr>\n",
       "    <tr>\n",
       "      <th>6</th>\n",
       "      <td>171</td>\n",
       "      <td>Empire Strikes Back, The (1980)</td>\n",
       "      <td>1980</td>\n",
       "      <td>172</td>\n",
       "    </tr>\n",
       "    <tr>\n",
       "      <th>7</th>\n",
       "      <td>180</td>\n",
       "      <td>Return of the Jedi (1983)</td>\n",
       "      <td>1997</td>\n",
       "      <td>181</td>\n",
       "    </tr>\n",
       "    <tr>\n",
       "      <th>8</th>\n",
       "      <td>81</td>\n",
       "      <td>Jurassic Park (1993)</td>\n",
       "      <td>1993</td>\n",
       "      <td>82</td>\n",
       "    </tr>\n",
       "    <tr>\n",
       "      <th>9</th>\n",
       "      <td>251</td>\n",
       "      <td>Lost World: Jurassic Park, The (1997)</td>\n",
       "      <td>1997</td>\n",
       "      <td>252</td>\n",
       "    </tr>\n",
       "    <tr>\n",
       "      <th>10</th>\n",
       "      <td>173</td>\n",
       "      <td>Raiders of the Lost Ark (1981)</td>\n",
       "      <td>1981</td>\n",
       "      <td>174</td>\n",
       "    </tr>\n",
       "    <tr>\n",
       "      <th>11</th>\n",
       "      <td>209</td>\n",
       "      <td>Indiana Jones and the Last Crusade (1989)</td>\n",
       "      <td>1989</td>\n",
       "      <td>210</td>\n",
       "    </tr>\n",
       "    <tr>\n",
       "      <th>12</th>\n",
       "      <td>65</td>\n",
       "      <td>While You Were Sleeping (1995)</td>\n",
       "      <td>1995</td>\n",
       "      <td>66</td>\n",
       "    </tr>\n",
       "    <tr>\n",
       "      <th>13</th>\n",
       "      <td>87</td>\n",
       "      <td>Sleepless in Seattle (1993)</td>\n",
       "      <td>1993</td>\n",
       "      <td>88</td>\n",
       "    </tr>\n",
       "    <tr>\n",
       "      <th>14</th>\n",
       "      <td>254</td>\n",
       "      <td>My Best Friend's Wedding (1997)</td>\n",
       "      <td>1997</td>\n",
       "      <td>255</td>\n",
       "    </tr>\n",
       "    <tr>\n",
       "      <th>15</th>\n",
       "      <td>90</td>\n",
       "      <td>Nightmare Before Christmas, The (1993)</td>\n",
       "      <td>1993</td>\n",
       "      <td>91</td>\n",
       "    </tr>\n",
       "    <tr>\n",
       "      <th>16</th>\n",
       "      <td>199</td>\n",
       "      <td>Shining, The (1980)</td>\n",
       "      <td>1980</td>\n",
       "      <td>200</td>\n",
       "    </tr>\n",
       "    <tr>\n",
       "      <th>17</th>\n",
       "      <td>218</td>\n",
       "      <td>Nightmare on Elm Street, A (1984)</td>\n",
       "      <td>1984</td>\n",
       "      <td>219</td>\n",
       "    </tr>\n",
       "    <tr>\n",
       "      <th>18</th>\n",
       "      <td>286</td>\n",
       "      <td>Scream (1996)</td>\n",
       "      <td>1996</td>\n",
       "      <td>288</td>\n",
       "    </tr>\n",
       "    <tr>\n",
       "      <th>19</th>\n",
       "      <td>893</td>\n",
       "      <td>Scream 2 (1997)</td>\n",
       "      <td>1997</td>\n",
       "      <td>895</td>\n",
       "    </tr>\n",
       "  </tbody>\n",
       "</table>\n",
       "</div>"
      ],
      "text/plain": [
       "    item_id                                      title  release_year  \\\n",
       "0         0                           Toy Story (1995)          1995   \n",
       "1        70                      Lion King, The (1994)          1994   \n",
       "2        98     Snow White and the Seven Dwarfs (1937)          1937   \n",
       "3       131                   Wizard of Oz, The (1939)          1939   \n",
       "4       142                 Sound of Music, The (1965)          1965   \n",
       "5        49                           Star Wars (1977)          1977   \n",
       "6       171            Empire Strikes Back, The (1980)          1980   \n",
       "7       180                  Return of the Jedi (1983)          1997   \n",
       "8        81                       Jurassic Park (1993)          1993   \n",
       "9       251      Lost World: Jurassic Park, The (1997)          1997   \n",
       "10      173             Raiders of the Lost Ark (1981)          1981   \n",
       "11      209  Indiana Jones and the Last Crusade (1989)          1989   \n",
       "12       65             While You Were Sleeping (1995)          1995   \n",
       "13       87                Sleepless in Seattle (1993)          1993   \n",
       "14      254            My Best Friend's Wedding (1997)          1997   \n",
       "15       90     Nightmare Before Christmas, The (1993)          1993   \n",
       "16      199                        Shining, The (1980)          1980   \n",
       "17      218          Nightmare on Elm Street, A (1984)          1984   \n",
       "18      286                              Scream (1996)          1996   \n",
       "19      893                            Scream 2 (1997)          1997   \n",
       "\n",
       "    orig_item_id  \n",
       "0              1  \n",
       "1             71  \n",
       "2             99  \n",
       "3            132  \n",
       "4            143  \n",
       "5             50  \n",
       "6            172  \n",
       "7            181  \n",
       "8             82  \n",
       "9            252  \n",
       "10           174  \n",
       "11           210  \n",
       "12            66  \n",
       "13            88  \n",
       "14           255  \n",
       "15            91  \n",
       "16           200  \n",
       "17           219  \n",
       "18           288  \n",
       "19           895  "
      ]
     },
     "execution_count": null,
     "metadata": {},
     "output_type": "execute_result"
    }
   ],
   "source": [
    "select_movies_df"
   ]
  },
  {
   "cell_type": "code",
   "execution_count": null,
   "metadata": {},
   "outputs": [],
   "source": []
  },
  {
   "cell_type": "markdown",
   "metadata": {},
   "source": [
    "# Part 2: Head start on Project C Problem 1"
   ]
  },
  {
   "cell_type": "markdown",
   "metadata": {},
   "source": [
    "### Discussion 2a: Do you understand what Problem 1 is asking you to do? Work with your group to understand it.\n",
    "\n",
    "Go read the prompt for Problem 1 (if you haven't already)\n",
    "\n",
    "Link: https://www.cs.tufts.edu/cs/135/2025s/projectB.html#problem1"
   ]
  },
  {
   "cell_type": "markdown",
   "metadata": {},
   "source": [
    "### Discussion 2b: Do you understand how the starter code works?\n",
    "\n",
    "Go read through the CollabFilterOneVectorPerItem class\n",
    "\n",
    "\n",
    "This class defines 3 key methods:\n",
    "\n",
    "* `init_parameter_dict` Mostly provided, just need minor modifications for dimensionality\n",
    "* `predict` You will complete this\n",
    "* `calc_loss_wrt_parameter_dict` You will complete this\n",
    "\n",
    "It inherits 2 other key methods from AbstractBaseClassSGD, which you do NOT need to change:\n",
    "\n",
    "* `__init__` the constructor\n",
    "* `fit` : which fits the model to provided dataset via SGD\n",
    "\n"
   ]
  },
  {
   "cell_type": "markdown",
   "metadata": {},
   "source": [
    "### Import the starter code from problem 1"
   ]
  },
  {
   "cell_type": "code",
   "execution_count": null,
   "metadata": {},
   "outputs": [],
   "source": [
    "from CollabFilterOneVectorPerItem import CollabFilterOneVectorPerItem"
   ]
  },
  {
   "cell_type": "markdown",
   "metadata": {},
   "source": [
    "### Create an instance of latent factor (LF) model"
   ]
  },
  {
   "cell_type": "code",
   "execution_count": null,
   "metadata": {},
   "outputs": [],
   "source": [
    "# Create the model\n",
    "model = CollabFilterOneVectorPerItem(\n",
    "    n_epochs=6, batch_size=10000, step_size=0.1, n_factors=2)"
   ]
  },
  {
   "cell_type": "code",
   "execution_count": null,
   "metadata": {},
   "outputs": [
    {
     "data": {
      "text/plain": [
       "False"
      ]
     },
     "execution_count": null,
     "metadata": {},
     "output_type": "execute_result"
    }
   ],
   "source": [
    "# We only just constructed this model\n",
    "# We don't yet have initialized parameters yet\n",
    "hasattr(model, 'param_dict')"
   ]
  },
  {
   "cell_type": "markdown",
   "metadata": {},
   "source": [
    "### Initialize the parameters"
   ]
  },
  {
   "cell_type": "code",
   "execution_count": null,
   "metadata": {},
   "outputs": [],
   "source": [
    "model.init_parameter_dict(n_users, n_items, train_tuple)"
   ]
  },
  {
   "cell_type": "code",
   "execution_count": null,
   "metadata": {},
   "outputs": [
    {
     "data": {
      "text/plain": [
       "True"
      ]
     },
     "execution_count": null,
     "metadata": {},
     "output_type": "execute_result"
    }
   ],
   "source": [
    "hasattr(model, 'param_dict')"
   ]
  },
  {
   "cell_type": "code",
   "execution_count": null,
   "metadata": {},
   "outputs": [
    {
     "data": {
      "text/plain": [
       "{'mu': array([1.]),\n",
       " 'b_per_user': array([1.]),\n",
       " 'c_per_item': array([1.]),\n",
       " 'U': array([-0.00061335]),\n",
       " 'V': array([0.00087656])}"
      ]
     },
     "execution_count": null,
     "metadata": {},
     "output_type": "execute_result"
    }
   ],
   "source": [
    "model.param_dict      # in starter code, the dimensionality of U/V is not right.... you need to fix that"
   ]
  },
  {
   "cell_type": "markdown",
   "metadata": {},
   "source": [
    "### Call fit to run SGD training\n",
    "\n",
    "We are intentionally calling this with out-of-the-box starter code.\n",
    "\n",
    "It should just show several steps of SGD that do not change the parameters\n",
    "\n",
    "We *expect* this will yield the warning \"Output seems independent of input.\", because the loss function is set to zero always in the starter code. If you fix the loss, this warning will go away."
   ]
  },
  {
   "cell_type": "code",
   "execution_count": null,
   "metadata": {},
   "outputs": [
    {
     "name": "stdout",
     "output_type": "stream",
     "text": [
      "epoch       0.000 | loss_total     0.00000 | tr RMSE     2.76970 | va RMSE     2.74794 | grad_wrt_mu     0.00000 | grad_wrt_b_per_user     0.00000 | grad_wrt_c_per_item     0.00000 | grad_wrt_U     0.00000 | grad_wrt_V     0.00000\n",
      "epoch       0.143 | loss_total     0.00000 | tr RMSE     2.76970 | va RMSE     2.74794 | grad_wrt_mu     0.00000 | grad_wrt_b_per_user     0.00000 | grad_wrt_c_per_item     0.00000 | grad_wrt_U     0.00000 | grad_wrt_V     0.00000\n",
      "epoch       0.286 | loss_total     0.00000 | tr RMSE     2.76970 | va RMSE     2.74794 | grad_wrt_mu     0.00000 | grad_wrt_b_per_user     0.00000 | grad_wrt_c_per_item     0.00000 | grad_wrt_U     0.00000 | grad_wrt_V     0.00000\n",
      "epoch       0.429 | loss_total     0.00000 | tr RMSE     2.76970 | va RMSE     2.74794 | grad_wrt_mu     0.00000 | grad_wrt_b_per_user     0.00000 | grad_wrt_c_per_item     0.00000 | grad_wrt_U     0.00000 | grad_wrt_V     0.00000\n",
      "epoch       0.571 | loss_total     0.00000 | tr RMSE     2.76970 | va RMSE     2.74794 | grad_wrt_mu     0.00000 | grad_wrt_b_per_user     0.00000 | grad_wrt_c_per_item     0.00000 | grad_wrt_U     0.00000 | grad_wrt_V     0.00000\n",
      "epoch       0.714 | loss_total     0.00000 | tr RMSE     2.76970 | va RMSE     2.74794 | grad_wrt_mu     0.00000 | grad_wrt_b_per_user     0.00000 | grad_wrt_c_per_item     0.00000 | grad_wrt_U     0.00000 | grad_wrt_V     0.00000\n",
      "epoch       0.857 | loss_total     0.00000 | tr RMSE     2.76970 | va RMSE     2.74794 | grad_wrt_mu     0.00000 | grad_wrt_b_per_user     0.00000 | grad_wrt_c_per_item     0.00000 | grad_wrt_U     0.00000 | grad_wrt_V     0.00000\n",
      "epoch       1.000 | loss_total     0.00000 | tr RMSE     2.76970 | va RMSE     2.74794 | grad_wrt_mu     0.00000 | grad_wrt_b_per_user     0.00000 | grad_wrt_c_per_item     0.00000 | grad_wrt_U     0.00000 | grad_wrt_V     0.00000\n",
      "epoch       1.143 | loss_total     0.00000 | tr RMSE     2.76970 | va RMSE     2.74794 | grad_wrt_mu     0.00000 | grad_wrt_b_per_user     0.00000 | grad_wrt_c_per_item     0.00000 | grad_wrt_U     0.00000 | grad_wrt_V     0.00000\n",
      "epoch       1.286 | loss_total     0.00000 | tr RMSE     2.76970 | va RMSE     2.74794 | grad_wrt_mu     0.00000 | grad_wrt_b_per_user     0.00000 | grad_wrt_c_per_item     0.00000 | grad_wrt_U     0.00000 | grad_wrt_V     0.00000\n",
      "epoch       1.429 | loss_total     0.00000 | tr RMSE     2.76970 | va RMSE     2.74794 | grad_wrt_mu     0.00000 | grad_wrt_b_per_user     0.00000 | grad_wrt_c_per_item     0.00000 | grad_wrt_U     0.00000 | grad_wrt_V     0.00000\n",
      "epoch       1.571 | loss_total     0.00000 | tr RMSE     2.76970 | va RMSE     2.74794 | grad_wrt_mu     0.00000 | grad_wrt_b_per_user     0.00000 | grad_wrt_c_per_item     0.00000 | grad_wrt_U     0.00000 | grad_wrt_V     0.00000\n",
      "epoch       1.714 | loss_total     0.00000 | tr RMSE     2.76970 | va RMSE     2.74794 | grad_wrt_mu     0.00000 | grad_wrt_b_per_user     0.00000 | grad_wrt_c_per_item     0.00000 | grad_wrt_U     0.00000 | grad_wrt_V     0.00000\n",
      "epoch       1.857 | loss_total     0.00000 | tr RMSE     2.76970 | va RMSE     2.74794 | grad_wrt_mu     0.00000 | grad_wrt_b_per_user     0.00000 | grad_wrt_c_per_item     0.00000 | grad_wrt_U     0.00000 | grad_wrt_V     0.00000\n",
      "epoch       2.000 | loss_total     0.00000 | tr RMSE     2.76970 | va RMSE     2.74794 | grad_wrt_mu     0.00000 | grad_wrt_b_per_user     0.00000 | grad_wrt_c_per_item     0.00000 | grad_wrt_U     0.00000 | grad_wrt_V     0.00000\n",
      "epoch       2.571 | loss_total     0.00000 | tr RMSE     2.76970 | va RMSE     2.74794 | grad_wrt_mu     0.00000 | grad_wrt_b_per_user     0.00000 | grad_wrt_c_per_item     0.00000 | grad_wrt_U     0.00000 | grad_wrt_V     0.00000\n",
      "epoch       3.000 | loss_total     0.00000 | tr RMSE     2.76970 | va RMSE     2.74794 | grad_wrt_mu     0.00000 | grad_wrt_b_per_user     0.00000 | grad_wrt_c_per_item     0.00000 | grad_wrt_U     0.00000 | grad_wrt_V     0.00000\n",
      "epoch       3.571 | loss_total     0.00000 | tr RMSE     2.76970 | va RMSE     2.74794 | grad_wrt_mu     0.00000 | grad_wrt_b_per_user     0.00000 | grad_wrt_c_per_item     0.00000 | grad_wrt_U     0.00000 | grad_wrt_V     0.00000\n",
      "epoch       4.000 | loss_total     0.00000 | tr RMSE     2.76970 | va RMSE     2.74794 | grad_wrt_mu     0.00000 | grad_wrt_b_per_user     0.00000 | grad_wrt_c_per_item     0.00000 | grad_wrt_U     0.00000 | grad_wrt_V     0.00000\n",
      "epoch       4.571 | loss_total     0.00000 | tr RMSE     2.76970 | va RMSE     2.74794 | grad_wrt_mu     0.00000 | grad_wrt_b_per_user     0.00000 | grad_wrt_c_per_item     0.00000 | grad_wrt_U     0.00000 | grad_wrt_V     0.00000\n",
      "epoch       5.000 | loss_total     0.00000 | tr RMSE     2.76970 | va RMSE     2.74794 | grad_wrt_mu     0.00000 | grad_wrt_b_per_user     0.00000 | grad_wrt_c_per_item     0.00000 | grad_wrt_U     0.00000 | grad_wrt_V     0.00000\n",
      "epoch       5.571 | loss_total     0.00000 | tr RMSE     2.76970 | va RMSE     2.74794 | grad_wrt_mu     0.00000 | grad_wrt_b_per_user     0.00000 | grad_wrt_c_per_item     0.00000 | grad_wrt_U     0.00000 | grad_wrt_V     0.00000\n",
      "epoch       5.857 | loss_total     0.00000 | tr RMSE     2.76970 | va RMSE     2.74794 | grad_wrt_mu     0.00000 | grad_wrt_b_per_user     0.00000 | grad_wrt_c_per_item     0.00000 | grad_wrt_U     0.00000 | grad_wrt_V     0.00000\n"
     ]
    },
    {
     "name": "stderr",
     "output_type": "stream",
     "text": [
      "/Users/mhughes/micromamba/envs/cs135_25s_env/lib/python3.11/site-packages/autograd/tracer.py:14: UserWarning: Output seems independent of input.\n",
      "  warnings.warn(\"Output seems independent of input.\")\n"
     ]
    }
   ],
   "source": [
    "model.fit(train_tuple, valid_tuple)"
   ]
  },
  {
   "cell_type": "markdown",
   "metadata": {},
   "source": [
    "After calling `fit`, we have access to many useful attributes that help us track the history of the SGD\n",
    "\n",
    "These include:\n",
    "\n",
    "* trace_epoch\n",
    "* trace_rmse_train\n",
    "* trace_rmse_valid\n",
    "\n",
    "... and many more!"
   ]
  },
  {
   "cell_type": "code",
   "execution_count": null,
   "metadata": {},
   "outputs": [
    {
     "data": {
      "text/plain": [
       "[0.0,\n",
       " 0.14285714285714285,\n",
       " 0.2857142857142857,\n",
       " 0.42857142857142855,\n",
       " 0.5714285714285714,\n",
       " 0.7142857142857142,\n",
       " 0.857142857142857,\n",
       " 1.0,\n",
       " 1.1428571428571428,\n",
       " 1.2857142857142856,\n",
       " 1.4285714285714284,\n",
       " 1.5714285714285712,\n",
       " 1.714285714285714,\n",
       " 1.8571428571428568,\n",
       " 2.0,\n",
       " 2.571428571428571,\n",
       " 3.0,\n",
       " 3.571428571428571,\n",
       " 4.0,\n",
       " 4.571428571428573,\n",
       " 5.0,\n",
       " 5.571428571428573,\n",
       " 5.857142857142859]"
      ]
     },
     "execution_count": null,
     "metadata": {},
     "output_type": "execute_result"
    }
   ],
   "source": [
    "# Here we show at which epochs we collected a snapshot of model performance\n",
    "\n",
    "model.trace_epoch"
   ]
  },
  {
   "cell_type": "code",
   "execution_count": null,
   "metadata": {},
   "outputs": [
    {
     "data": {
      "text/plain": [
       "[2.769700860588171,\n",
       " 2.769700860588171,\n",
       " 2.769700860588171,\n",
       " 2.769700860588171,\n",
       " 2.769700860588171,\n",
       " 2.769700860588171,\n",
       " 2.769700860588171,\n",
       " 2.769700860588171,\n",
       " 2.769700860588171,\n",
       " 2.769700860588171,\n",
       " 2.769700860588171,\n",
       " 2.769700860588171,\n",
       " 2.769700860588171,\n",
       " 2.769700860588171,\n",
       " 2.769700860588171,\n",
       " 2.769700860588171,\n",
       " 2.769700860588171,\n",
       " 2.769700860588171,\n",
       " 2.769700860588171,\n",
       " 2.769700860588171,\n",
       " 2.769700860588171,\n",
       " 2.769700860588171,\n",
       " 2.769700860588171]"
      ]
     },
     "execution_count": null,
     "metadata": {},
     "output_type": "execute_result"
    }
   ],
   "source": [
    "# Here we show what the recorded MAE on the training set was at each epoch\n",
    "\n",
    "model.trace_rmse_train"
   ]
  },
  {
   "cell_type": "markdown",
   "metadata": {},
   "source": [
    "### Example code for a trace plot of error vs epoch\n",
    "\n",
    "Starter code should produce a flat line (since its loss is wrong).\n",
    "\n",
    "Your goal is to implement the loss correctly. When you do, you should see *improvement* in the MAE as you train for many epochs."
   ]
  },
  {
   "cell_type": "code",
   "execution_count": null,
   "metadata": {},
   "outputs": [
    {
     "data": {
      "text/plain": [
       "(0.0, 3.0)"
      ]
     },
     "execution_count": null,
     "metadata": {},
     "output_type": "execute_result"
    },
    {
     "data": {
      "image/png": "[encoded data removed]",
      "text/plain": [
       "<Figure size 800x550 with 1 Axes>"
      ]
     },
     "metadata": {},
     "output_type": "display_data"
    }
   ],
   "source": [
    "plt.plot(model.trace_epoch, model.trace_rmse_train, 'b.-', label='RMSE on train')\n",
    "plt.plot(model.trace_epoch, model.trace_rmse_valid, 'r.-', label='RMSE on valid')\n",
    "\n",
    "plt.xlabel('epoch');\n",
    "plt.legend(loc='lower right');\n",
    "plt.ylim([0, 3])"
   ]
  },
  {
   "cell_type": "markdown",
   "metadata": {},
   "source": [
    "### Discussion 2c: Do you understand what happens under the hood when you call `fit`?\n",
    "\n",
    "Go read through the provided `fit` method\n",
    "\n",
    "Link: https://github.com/tufts-ml-courses/cs135-25s-assignments/blob/main/projectB/AbstractBaseCollabFilterSGD.py#L107\n",
    "\n",
    "You do not need to EDIT this at all, you can use it out of the box. The hard work of SGD implementation has been done for you.\n",
    "\n",
    "We just want you to understand conceptually how it works.\n",
    "\n",
    "In particular, you should focus your reading on these bits of code:\n",
    "\n",
    "* [Line 179](https://github.com/tufts-ml-courses/cs135-25s-assignments/blob/main/projectB/AbstractBaseCollabFilterSGD.py#L179) is where we loop over epochs\n",
    "* [Line 183](https://github.com/tufts-ml-courses/cs135-25s-assignments/blob/main/projectB/AbstractBaseCollabFilterSGD.py#183) is where we loop over each minibatches for the current epoch\n",
    "* [Line 190](https://github.com/tufts-ml-courses/cs135-25s-assignments/blob/main/projectB/AbstractBaseCollabFilterSGD.py#L190) is where we compute the loss and gradient for the current minibatch\n",
    "* [Line 248](https://github.com/tufts-ml-courses/cs135-25s-assignments/blob/main/projectB/AbstractBaseCollabFilterSGD.py#L248) is where we update the current parameters by taking a small step in the direction of the gradient\n",
    "\n"
   ]
  },
  {
   "cell_type": "markdown",
   "metadata": {},
   "source": [
    "### Discussion 2d: Where in the `fit` code do you see autograd at work?\n",
    "\n",
    "\n",
    "Hint: In Line 190 we call a function named `calc_loss_and_grad_wrt_parameter_dict`\n",
    "\n",
    "Go see that function in Line 81:\n",
    "\n",
    "https://github.com/tufts-ml-courses/cs135-25s-assignments/blob/main/projectB/AbstractBaseCollabFilterSGD.py#L81\n",
    "\n",
    "This function calls `autograd.value_and_grad`, which will, given a function f, compute for a given input x *both* of:\n",
    "\n",
    "* the value of the function at x: $f(x)$\n",
    "* the gradient of the function at: $g(x)$"
   ]
  },
  {
   "cell_type": "markdown",
   "metadata": {},
   "source": [
    "<a name=\"part3\"></a>"
   ]
  },
  {
   "cell_type": "markdown",
   "metadata": {},
   "source": [
    "# Part 3: Using the surprise library"
   ]
  },
  {
   "cell_type": "markdown",
   "metadata": {},
   "source": [
    "Surprise is a Python library built to make recommendation systems\n",
    "\n",
    "You can use it for *Problem 4* (our Open ended prediction challenge)\n",
    "\n",
    "Here we give a very brief demo of how to use surprise on our data\n",
    "\n",
    "### Check out its documentation here:\n",
    "\n",
    "https://surprise.readthedocs.io/en/stable/index.html"
   ]
  },
  {
   "cell_type": "markdown",
   "metadata": {},
   "source": [
    "### Import surprise library\n",
    "\n",
    "If this breaks, you need to follow install instructions here: \n",
    "https://www.cs.tufts.edu/comp/135/2020f/projectC.html#code"
   ]
  },
  {
   "cell_type": "code",
   "execution_count": null,
   "metadata": {},
   "outputs": [],
   "source": [
    "import surprise"
   ]
  },
  {
   "cell_type": "markdown",
   "metadata": {},
   "source": [
    "Create a specialized Reader object for surprise to read the dataset"
   ]
  },
  {
   "cell_type": "code",
   "execution_count": null,
   "metadata": {},
   "outputs": [],
   "source": [
    "reader = surprise.Reader(\n",
    "    line_format='user item rating', sep=',',\n",
    "    rating_scale=(1, 5), skip_lines=1)"
   ]
  },
  {
   "cell_type": "markdown",
   "metadata": {},
   "source": [
    "### Load the entire development set into surprise's format"
   ]
  },
  {
   "cell_type": "code",
   "execution_count": null,
   "metadata": {},
   "outputs": [],
   "source": [
    "dev_set = surprise.Dataset.load_from_file(\n",
    "    os.path.join(DATA_PATH, 'ratings_all_development_set.csv'), reader=reader)"
   ]
  },
  {
   "cell_type": "code",
   "execution_count": null,
   "metadata": {},
   "outputs": [],
   "source": [
    "dev_set_for_fit = dev_set.build_full_trainset()"
   ]
  },
  {
   "cell_type": "code",
   "execution_count": null,
   "metadata": {},
   "outputs": [],
   "source": [
    "dev_set_for_predict = dev_set_for_fit.build_testset()"
   ]
  },
  {
   "cell_type": "code",
   "execution_count": null,
   "metadata": {},
   "outputs": [
    {
     "data": {
      "text/plain": [
       "3.529480398257623"
      ]
     },
     "execution_count": null,
     "metadata": {},
     "output_type": "execute_result"
    }
   ],
   "source": [
    "dev_set_for_fit.global_mean"
   ]
  },
  {
   "cell_type": "code",
   "execution_count": null,
   "metadata": {},
   "outputs": [
    {
     "data": {
      "text/plain": [
       "(1, 5)"
      ]
     },
     "execution_count": null,
     "metadata": {},
     "output_type": "execute_result"
    }
   ],
   "source": [
    "dev_set_for_fit.rating_scale"
   ]
  },
  {
   "cell_type": "markdown",
   "metadata": {},
   "source": [
    "### Fit a latent factor model\n",
    "\n",
    "See the surprise.SVD documentation: \n",
    "\n",
    "https://surprise.readthedocs.io/en/stable/matrix_factorization.html#surprise.prediction_algorithms.matrix_factorization.SVD"
   ]
  },
  {
   "cell_type": "code",
   "execution_count": null,
   "metadata": {},
   "outputs": [
    {
     "data": {
      "text/plain": [
       "<surprise.prediction_algorithms.matrix_factorization.SVD>"
      ]
     },
     "execution_count": null,
     "metadata": {},
     "output_type": "execute_result"
    }
   ],
   "source": [
    "# Fit SVD model, which is like our LF\n",
    "# One difference from our LF is the regularization is slightly different\n",
    "# both per-item and per-users bias parameters are penalized\n",
    "\n",
    "model = surprise.SVD(n_factors=2, n_epochs=10, lr_all=0.01, random_state=0)\n",
    "model.fit(dev_set_for_fit)"
   ]
  },
  {
   "cell_type": "markdown",
   "metadata": {},
   "source": [
    "### Make predictions on development set (attempt 1)"
   ]
  },
  {
   "cell_type": "markdown",
   "metadata": {},
   "source": [
    "Weirdly, surprise doesn't let you use the same dataset representation to do fit and do predict\n",
    "\n",
    "We *expect* this line to fail"
   ]
  },
  {
   "cell_type": "code",
   "execution_count": null,
   "metadata": {},
   "outputs": [
    {
     "name": "stdout",
     "output_type": "stream",
     "text": [
      "'Trainset' object is not iterable\n"
     ]
    }
   ],
   "source": [
    "try:\n",
    "    model.test(dev_set_for_fit)\n",
    "except TypeError as e:\n",
    "    print(str(e))"
   ]
  },
  {
   "cell_type": "markdown",
   "metadata": {},
   "source": [
    "### Make predictions on the development set (attempt 2)\n",
    "\n",
    "This is the proper way to ask for predictions"
   ]
  },
  {
   "cell_type": "code",
   "execution_count": null,
   "metadata": {},
   "outputs": [
    {
     "data": {
      "text/plain": [
       "[Prediction(uid='772', iid='36', r_ui=3.0, est=2.7544139699224877, details={'was_impossible': False}),\n",
       " Prediction(uid='772', iid='175', r_ui=4.0, est=3.6351699413391376, details={'was_impossible': False}),\n",
       " Prediction(uid='772', iid='1168', r_ui=3.0, est=2.864122198932828, details={'was_impossible': False})]"
      ]
     },
     "execution_count": null,
     "metadata": {},
     "output_type": "execute_result"
    }
   ],
   "source": [
    "yhat = model.test(dev_set_for_predict)\n",
    "\n",
    "yhat[:3]"
   ]
  },
  {
   "cell_type": "code",
   "execution_count": null,
   "metadata": {},
   "outputs": [],
   "source": []
  },
  {
   "cell_type": "markdown",
   "metadata": {},
   "source": [
    "<a id=\"part4\"></a>"
   ]
  },
  {
   "cell_type": "markdown",
   "metadata": {},
   "source": [
    "## Visualizing latent factors in 2D for select movies"
   ]
  },
  {
   "cell_type": "markdown",
   "metadata": {},
   "source": [
    "We'll use the model we just trained via surprise above in Part 3.\n",
    "\n",
    "Remember, we got a vector of size 2 for each movie\n"
   ]
  },
  {
   "cell_type": "code",
   "execution_count": null,
   "metadata": {},
   "outputs": [
    {
     "name": "stdout",
     "output_type": "stream",
     "text": [
      "shape of V (per item vectors): \n",
      "(1662, 2)\n"
     ]
    }
   ],
   "source": [
    "\n",
    "print(\"shape of V (per item vectors): \")\n",
    "print(model.qi.shape)\n"
   ]
  },
  {
   "cell_type": "code",
   "execution_count": null,
   "metadata": {},
   "outputs": [],
   "source": [
    "item_ids = []\n",
    "for iid in model.trainset.all_items():\n",
    "    item_ids.append(int(model.trainset.to_raw_iid(iid)))\n",
    "item_ids = np.asarray(item_ids)"
   ]
  },
  {
   "cell_type": "code",
   "execution_count": null,
   "metadata": {},
   "outputs": [
    {
     "data": {
      "text/plain": [
       "0"
      ]
     },
     "execution_count": null,
     "metadata": {},
     "output_type": "execute_result"
    }
   ],
   "source": [
    "item_ids.min()"
   ]
  },
  {
   "cell_type": "code",
   "execution_count": null,
   "metadata": {},
   "outputs": [
    {
     "data": {
      "text/plain": [
       "1680"
      ]
     },
     "execution_count": null,
     "metadata": {},
     "output_type": "execute_result"
    }
   ],
   "source": [
    "item_ids.max()"
   ]
  },
  {
   "cell_type": "code",
   "execution_count": null,
   "metadata": {},
   "outputs": [
    {
     "data": {
      "text/plain": [
       "1662"
      ]
     },
     "execution_count": null,
     "metadata": {},
     "output_type": "execute_result"
    }
   ],
   "source": [
    "len(item_ids)"
   ]
  },
  {
   "cell_type": "markdown",
   "metadata": {},
   "source": [
    "Remember what our \"select movies\" are"
   ]
  },
  {
   "cell_type": "code",
   "execution_count": null,
   "metadata": {},
   "outputs": [
    {
     "data": {
      "text/html": [
       "<div>\n",
       "<style scoped>\n",
       "    .dataframe tbody tr th:only-of-type {\n",
       "        vertical-align: middle;\n",
       "    }\n",
       "\n",
       "    .dataframe tbody tr th {\n",
       "        vertical-align: top;\n",
       "    }\n",
       "\n",
       "    .dataframe thead th {\n",
       "        text-align: right;\n",
       "    }\n",
       "</style>\n",
       "<table border=\"1\" class=\"dataframe\">\n",
       "  <thead>\n",
       "    <tr style=\"text-align: right;\">\n",
       "      <th></th>\n",
       "      <th>item_id</th>\n",
       "      <th>title</th>\n",
       "      <th>release_year</th>\n",
       "      <th>orig_item_id</th>\n",
       "    </tr>\n",
       "  </thead>\n",
       "  <tbody>\n",
       "    <tr>\n",
       "      <th>0</th>\n",
       "      <td>0</td>\n",
       "      <td>Toy Story (1995)</td>\n",
       "      <td>1995</td>\n",
       "      <td>1</td>\n",
       "    </tr>\n",
       "    <tr>\n",
       "      <th>1</th>\n",
       "      <td>70</td>\n",
       "      <td>Lion King, The (1994)</td>\n",
       "      <td>1994</td>\n",
       "      <td>71</td>\n",
       "    </tr>\n",
       "    <tr>\n",
       "      <th>2</th>\n",
       "      <td>98</td>\n",
       "      <td>Snow White and the Seven Dwarfs (1937)</td>\n",
       "      <td>1937</td>\n",
       "      <td>99</td>\n",
       "    </tr>\n",
       "    <tr>\n",
       "      <th>3</th>\n",
       "      <td>131</td>\n",
       "      <td>Wizard of Oz, The (1939)</td>\n",
       "      <td>1939</td>\n",
       "      <td>132</td>\n",
       "    </tr>\n",
       "    <tr>\n",
       "      <th>4</th>\n",
       "      <td>142</td>\n",
       "      <td>Sound of Music, The (1965)</td>\n",
       "      <td>1965</td>\n",
       "      <td>143</td>\n",
       "    </tr>\n",
       "    <tr>\n",
       "      <th>5</th>\n",
       "      <td>49</td>\n",
       "      <td>Star Wars (1977)</td>\n",
       "      <td>1977</td>\n",
       "      <td>50</td>\n",
       "    </tr>\n",
       "    <tr>\n",
       "      <th>6</th>\n",
       "      <td>171</td>\n",
       "      <td>Empire Strikes Back, The (1980)</td>\n",
       "      <td>1980</td>\n",
       "      <td>172</td>\n",
       "    </tr>\n",
       "    <tr>\n",
       "      <th>7</th>\n",
       "      <td>180</td>\n",
       "      <td>Return of the Jedi (1983)</td>\n",
       "      <td>1997</td>\n",
       "      <td>181</td>\n",
       "    </tr>\n",
       "    <tr>\n",
       "      <th>8</th>\n",
       "      <td>81</td>\n",
       "      <td>Jurassic Park (1993)</td>\n",
       "      <td>1993</td>\n",
       "      <td>82</td>\n",
       "    </tr>\n",
       "    <tr>\n",
       "      <th>9</th>\n",
       "      <td>251</td>\n",
       "      <td>Lost World: Jurassic Park, The (1997)</td>\n",
       "      <td>1997</td>\n",
       "      <td>252</td>\n",
       "    </tr>\n",
       "    <tr>\n",
       "      <th>10</th>\n",
       "      <td>173</td>\n",
       "      <td>Raiders of the Lost Ark (1981)</td>\n",
       "      <td>1981</td>\n",
       "      <td>174</td>\n",
       "    </tr>\n",
       "    <tr>\n",
       "      <th>11</th>\n",
       "      <td>209</td>\n",
       "      <td>Indiana Jones and the Last Crusade (1989)</td>\n",
       "      <td>1989</td>\n",
       "      <td>210</td>\n",
       "    </tr>\n",
       "    <tr>\n",
       "      <th>12</th>\n",
       "      <td>65</td>\n",
       "      <td>While You Were Sleeping (1995)</td>\n",
       "      <td>1995</td>\n",
       "      <td>66</td>\n",
       "    </tr>\n",
       "    <tr>\n",
       "      <th>13</th>\n",
       "      <td>87</td>\n",
       "      <td>Sleepless in Seattle (1993)</td>\n",
       "      <td>1993</td>\n",
       "      <td>88</td>\n",
       "    </tr>\n",
       "    <tr>\n",
       "      <th>14</th>\n",
       "      <td>254</td>\n",
       "      <td>My Best Friend's Wedding (1997)</td>\n",
       "      <td>1997</td>\n",
       "      <td>255</td>\n",
       "    </tr>\n",
       "    <tr>\n",
       "      <th>15</th>\n",
       "      <td>90</td>\n",
       "      <td>Nightmare Before Christmas, The (1993)</td>\n",
       "      <td>1993</td>\n",
       "      <td>91</td>\n",
       "    </tr>\n",
       "    <tr>\n",
       "      <th>16</th>\n",
       "      <td>199</td>\n",
       "      <td>Shining, The (1980)</td>\n",
       "      <td>1980</td>\n",
       "      <td>200</td>\n",
       "    </tr>\n",
       "    <tr>\n",
       "      <th>17</th>\n",
       "      <td>218</td>\n",
       "      <td>Nightmare on Elm Street, A (1984)</td>\n",
       "      <td>1984</td>\n",
       "      <td>219</td>\n",
       "    </tr>\n",
       "    <tr>\n",
       "      <th>18</th>\n",
       "      <td>286</td>\n",
       "      <td>Scream (1996)</td>\n",
       "      <td>1996</td>\n",
       "      <td>288</td>\n",
       "    </tr>\n",
       "    <tr>\n",
       "      <th>19</th>\n",
       "      <td>893</td>\n",
       "      <td>Scream 2 (1997)</td>\n",
       "      <td>1997</td>\n",
       "      <td>895</td>\n",
       "    </tr>\n",
       "  </tbody>\n",
       "</table>\n",
       "</div>"
      ],
      "text/plain": [
       "    item_id                                      title  release_year  \\\n",
       "0         0                           Toy Story (1995)          1995   \n",
       "1        70                      Lion King, The (1994)          1994   \n",
       "2        98     Snow White and the Seven Dwarfs (1937)          1937   \n",
       "3       131                   Wizard of Oz, The (1939)          1939   \n",
       "4       142                 Sound of Music, The (1965)          1965   \n",
       "5        49                           Star Wars (1977)          1977   \n",
       "6       171            Empire Strikes Back, The (1980)          1980   \n",
       "7       180                  Return of the Jedi (1983)          1997   \n",
       "8        81                       Jurassic Park (1993)          1993   \n",
       "9       251      Lost World: Jurassic Park, The (1997)          1997   \n",
       "10      173             Raiders of the Lost Ark (1981)          1981   \n",
       "11      209  Indiana Jones and the Last Crusade (1989)          1989   \n",
       "12       65             While You Were Sleeping (1995)          1995   \n",
       "13       87                Sleepless in Seattle (1993)          1993   \n",
       "14      254            My Best Friend's Wedding (1997)          1997   \n",
       "15       90     Nightmare Before Christmas, The (1993)          1993   \n",
       "16      199                        Shining, The (1980)          1980   \n",
       "17      218          Nightmare on Elm Street, A (1984)          1984   \n",
       "18      286                              Scream (1996)          1996   \n",
       "19      893                            Scream 2 (1997)          1997   \n",
       "\n",
       "    orig_item_id  \n",
       "0              1  \n",
       "1             71  \n",
       "2             99  \n",
       "3            132  \n",
       "4            143  \n",
       "5             50  \n",
       "6            172  \n",
       "7            181  \n",
       "8             82  \n",
       "9            252  \n",
       "10           174  \n",
       "11           210  \n",
       "12            66  \n",
       "13            88  \n",
       "14           255  \n",
       "15            91  \n",
       "16           200  \n",
       "17           219  \n",
       "18           288  \n",
       "19           895  "
      ]
     },
     "execution_count": null,
     "metadata": {},
     "output_type": "execute_result"
    }
   ],
   "source": [
    "select_movies_df"
   ]
  },
  {
   "cell_type": "markdown",
   "metadata": {},
   "source": [
    "### Create figure of per-movie embeddings in 2D space"
   ]
  },
  {
   "cell_type": "code",
   "execution_count": null,
   "metadata": {},
   "outputs": [
    {
     "data": {
      "image/png": "[encoded data removed]",
      "text/plain": [
       "<Figure size 800x800 with 1 Axes>"
      ]
     },
     "metadata": {},
     "output_type": "display_data"
    }
   ],
   "source": [
    "B = 0.002\n",
    "\n",
    "_, _ = plt.subplots(figsize=(8., 8.));\n",
    "\n",
    "for sid, itemid in enumerate(select_movies_df['item_id'].values):\n",
    "    title = select_movies_df['title'].values[sid]\n",
    "    row_id = np.flatnonzero(item_ids == itemid)[0]\n",
    "    movie_vec_2 = model.qi[row_id,:]\n",
    "    plt.plot(movie_vec_2[0], movie_vec_2[1], 'k.', markersize=8)\n",
    "    \n",
    "    if title.count(\"Wedding\"):\n",
    "        curBy = -3 * B # manual edit to make more readable\n",
    "    else:\n",
    "        curBy = B\n",
    "    \n",
    "    plt.text(movie_vec_2[0] + B, movie_vec_2[1] + curBy,\n",
    "             title, rotation=15, fontsize=11)\n",
    "    \n",
    "plt.xlabel('LF dim. 1');\n",
    "plt.ylabel('LF dim. 2');    \n",
    "plt.axis('equal');"
   ]
  }
 ],
 "metadata": {
  "kernelspec": {
   "display_name": "python3",
   "language": "python",
   "name": "python3"
  },
  "language_info": {
   "codemirror_mode": {
    "name": "ipython",
    "version": 3
   },
   "file_extension": ".py",
   "mimetype": "text/x-python",
   "name": "python",
   "nbconvert_exporter": "python",
   "pygments_lexer": "ipython3",
   "version": "3.11.11"
  }
 },
 "nbformat": 4,
 "nbformat_minor": 2
}
